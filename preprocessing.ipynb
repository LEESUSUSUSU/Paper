{
  "cells": [
    {
      "cell_type": "markdown",
      "metadata": {
        "id": "view-in-github",
        "colab_type": "text"
      },
      "source": [
        "<a href=\"https://colab.research.google.com/github/somoon0422/Paper/blob/main/preprocessing.ipynb\" target=\"_parent\"><img src=\"https://colab.research.google.com/assets/colab-badge.svg\" alt=\"Open In Colab\"/></a>"
      ]
    },
    {
      "cell_type": "markdown",
      "metadata": {
        "id": "NtNFyqQWszrp"
      },
      "source": [
        "zip 파일 풀기"
      ]
    },
    {
      "cell_type": "markdown",
      "metadata": {
        "id": "ptWYF8OXsyRf"
      },
      "source": [
        "---\n"
      ]
    },
    {
      "cell_type": "code",
      "execution_count": null,
      "metadata": {
        "colab": {
          "base_uri": "https://localhost:8080/"
        },
        "id": "jXS6uncTsxz5",
        "outputId": "938df499-2906-4da0-d8f5-5f3f5154f2ab"
      },
      "outputs": [
        {
          "name": "stdout",
          "output_type": "stream",
          "text": [
            "['outsidedoor_06.zip', '.ipynb_checkpoints', '198-2', '198-3', '198-4', '198-5', '198-6', '207-1', '207-2', '207-3', '207-4', '47-4', '592-1', '592-2', '592-3']\n"
          ]
        }
      ],
      "source": [
        "import zipfile\n",
        "import os\n",
        "\n",
        "# ZIP 파일 경로 설정\n",
        "zip_path = '/content/drive/MyDrive/논문주제/이상행동 CCTV 영상/10.데이트폭력및추행(datefight)/outsidedoor_06.zip'  # ZIP 파일의 경로를 설정하세요.\n",
        "extract_to = '/content/drive/MyDrive/논문주제/이상행동 CCTV 영상/10.데이트폭력및추행(datefight)/'  # 압축 해제할 폴더 경로\n",
        "\n",
        "# 압축 해제\n",
        "with zipfile.ZipFile(zip_path, 'r') as zip_ref:\n",
        "    zip_ref.extractall(extract_to)\n",
        "\n",
        "# 압축 해제된 파일 목록 출력\n",
        "print(os.listdir(extract_to))"
      ]
    },
    {
      "cell_type": "markdown",
      "metadata": {
        "id": "QWs6hdg05JId"
      },
      "source": [
        "##전처리"
      ]
    },
    {
      "cell_type": "code",
      "execution_count": null,
      "metadata": {
        "id": "OENGg4cD5IOO"
      },
      "outputs": [],
      "source": [
        "import cv2\n",
        "import os\n",
        "\n",
        "def video_to_frames(video_path, output_dir, frame_interval=30):\n",
        "    \"\"\"\n",
        "    주어진 비디오 파일을 프레임 단위로 추출하여 지정된 폴더에 저장합니다.\n",
        "\n",
        "    :param video_path: 비디오 파일의 경로\n",
        "    :param output_dir: 프레임을 저장할 디렉토리\n",
        "    :param frame_interval: 몇 프레임마다 이미지를 저장할지 설정 (기본값: 30)\n",
        "    \"\"\"\n",
        "    # 출력 디렉토리가 존재하지 않으면 생성\n",
        "    if not os.path.exists(output_dir):\n",
        "        os.makedirs(output_dir)\n",
        "\n",
        "    # 비디오 파일 열기\n",
        "    cap = cv2.VideoCapture(video_path)\n",
        "    count = 0  # 현재 읽은 프레임 수\n",
        "    saved_count = 0  # 저장된 프레임 수\n",
        "\n",
        "    while cap.isOpened():\n",
        "        ret, frame = cap.read()\n",
        "        if not ret:\n",
        "            break\n",
        "\n",
        "        # 30 프레임마다 이미지 저장\n",
        "        if count % frame_interval == 0:\n",
        "            frame_path = os.path.join(output_dir, f'frame_{saved_count:04d}.jpg')\n",
        "            cv2.imwrite(frame_path, frame)\n",
        "            saved_count += 1\n",
        "\n",
        "        count += 1\n",
        "\n",
        "    # 비디오 캡처 객체 해제\n",
        "    cap.release()\n",
        "\n",
        "def process_videos_in_directory(root_dir, output_base_dir, frame_interval=30):\n",
        "    \"\"\"\n",
        "    지정된 디렉토리를 재귀적으로 탐색하며 모든 MP4 비디오 파일을 처리합니다.\n",
        "\n",
        "    :param root_dir: 비디오 파일이 있는 루트 디렉토리\n",
        "    :param output_base_dir: 프레임을 저장할 기본 디렉토리\n",
        "    :param frame_interval: 몇 프레임마다 이미지를 저장할지 설정 (기본값: 30)\n",
        "    \"\"\"\n",
        "    for root, _, files in os.walk(root_dir):\n",
        "        for video_name in files:\n",
        "            video_path = os.path.join(root, video_name)\n",
        "\n",
        "            # 비디오 파일이 MP4 형식인지 확인\n",
        "            if video_name.endswith('.mp4'):\n",
        "                # 출력 경로 설정\n",
        "                relative_path = os.path.relpath(root, root_dir)  # 루트 디렉토리를 기준으로 상대 경로 계산\n",
        "                output_dir = os.path.join(output_base_dir, relative_path, os.path.splitext(video_name)[0])\n",
        "\n",
        "                # 비디오를 프레임으로 변환 (30 프레임 단위로)\n",
        "                video_to_frames(video_path, output_dir, frame_interval)\n",
        "\n",
        "def main():\n",
        "    # MP4 비디오 파일이 있는 루트 디렉토리와 출력 경로 설정\n",
        "    root_dir = '/content/drive/MyDrive/논문주제/이상행동 CCTV 영상/01.폭행(assult)'\n",
        "    output_base_dir = '/content/drive/MyDrive/논문주제/이상행동 CCTV 영상/01.폭행(assult)/path_to_output_frames2'\n",
        "\n",
        "    # 모든 MP4 비디오 파일 처리\n",
        "    process_videos_in_directory(root_dir, output_base_dir, frame_interval=30)\n",
        "\n",
        "if __name__ == \"__main__\":\n",
        "    main()"
      ]
    },
    {
      "cell_type": "code",
      "execution_count": null,
      "metadata": {
        "id": "Ur0iB6jMKqgf"
      },
      "outputs": [],
      "source": [
        "import cv2\n",
        "import os\n",
        "\n",
        "def video_to_frames(video_path, output_dir, frame_interval=30):\n",
        "    \"\"\"\n",
        "    주어진 비디오 파일을 프레임 단위로 추출하여 지정된 폴더에 저장합니다.\n",
        "\n",
        "    :param video_path: 비디오 파일의 경로\n",
        "    :param output_dir: 프레임을 저장할 디렉토리\n",
        "    :param frame_interval: 몇 프레임마다 이미지를 저장할지 설정 (기본값: 30)\n",
        "    \"\"\"\n",
        "    # 출력 디렉토리가 존재하지 않으면 생성\n",
        "    if not os.path.exists(output_dir):\n",
        "        os.makedirs(output_dir)\n",
        "\n",
        "    # 비디오 파일 열기\n",
        "    cap = cv2.VideoCapture(video_path)\n",
        "    count = 0  # 현재 읽은 프레임 수\n",
        "    saved_count = 0  # 저장된 프레임 수\n",
        "\n",
        "    while cap.isOpened():\n",
        "        ret, frame = cap.read()\n",
        "        if not ret:\n",
        "            break\n",
        "\n",
        "        # 30 프레임마다 이미지 저장\n",
        "        if count % frame_interval == 0:\n",
        "            frame_path = os.path.join(output_dir, f'frame_{saved_count:04d}.jpg')\n",
        "            cv2.imwrite(frame_path, frame)\n",
        "            saved_count += 1\n",
        "\n",
        "        count += 1\n",
        "\n",
        "    # 비디오 캡처 객체 해제\n",
        "    cap.release()\n",
        "\n",
        "def process_videos_in_directory(root_dir, output_base_dir, frame_interval=30):\n",
        "    \"\"\"\n",
        "    지정된 디렉토리를 재귀적으로 탐색하며 모든 MP4 비디오 파일을 처리합니다.\n",
        "\n",
        "    :param root_dir: 비디오 파일이 있는 루트 디렉토리\n",
        "    :param output_base_dir: 프레임을 저장할 기본 디렉토리\n",
        "    :param frame_interval: 몇 프레임마다 이미지를 저장할지 설정 (기본값: 30)\n",
        "    \"\"\"\n",
        "    for root, _, files in os.walk(root_dir):\n",
        "        for video_name in files:\n",
        "            video_path = os.path.join(root, video_name)\n",
        "\n",
        "            # 비디오 파일이 MP4 형식인지 확인\n",
        "            if video_name.endswith('.mp4'):\n",
        "                # 출력 경로 설정\n",
        "                relative_path = os.path.relpath(root, root_dir)  # 루트 디렉토리를 기준으로 상대 경로 계산\n",
        "                output_dir = os.path.join(output_base_dir, relative_path, os.path.splitext(video_name)[0])\n",
        "\n",
        "                # 비디오를 프레임으로 변환 (30 프레임 단위로)\n",
        "                video_to_frames(video_path, output_dir, frame_interval)\n",
        "\n",
        "def main():\n",
        "    # MP4 비디오 파일이 있는 루트 디렉토리와 출력 경로 설정\n",
        "    root_dir = '/content/drive/MyDrive/논문주제/이상행동 CCTV 영상/02.싸움(fight)'\n",
        "    output_base_dir = '/content/drive/MyDrive/논문주제/이상행동 CCTV 영상/02.싸움(fight)/path_to_output_frames2'\n",
        "\n",
        "    # 모든 MP4 비디오 파일 처리\n",
        "    process_videos_in_directory(root_dir, output_base_dir, frame_interval=30)\n",
        "\n",
        "if __name__ == \"__main__\":\n",
        "    main()"
      ]
    },
    {
      "cell_type": "code",
      "execution_count": null,
      "metadata": {
        "colab": {
          "background_save": true
        },
        "id": "bDoc-P38KwQM"
      },
      "outputs": [],
      "source": [
        "import cv2\n",
        "import os\n",
        "\n",
        "def video_to_frames(video_path, output_dir, frame_interval=30):\n",
        "    \"\"\"\n",
        "    주어진 비디오 파일을 프레임 단위로 추출하여 지정된 폴더에 저장합니다.\n",
        "\n",
        "    :param video_path: 비디오 파일의 경로\n",
        "    :param output_dir: 프레임을 저장할 디렉토리\n",
        "    :param frame_interval: 몇 프레임마다 이미지를 저장할지 설정 (기본값: 30)\n",
        "    \"\"\"\n",
        "    # 출력 디렉토리가 존재하지 않으면 생성\n",
        "    if not os.path.exists(output_dir):\n",
        "        os.makedirs(output_dir)\n",
        "\n",
        "    # 비디오 파일 열기\n",
        "    cap = cv2.VideoCapture(video_path)\n",
        "    count = 0  # 현재 읽은 프레임 수\n",
        "    saved_count = 0  # 저장된 프레임 수\n",
        "\n",
        "    while cap.isOpened():\n",
        "        ret, frame = cap.read()\n",
        "        if not ret:\n",
        "            break\n",
        "\n",
        "        # 30 프레임마다 이미지 저장\n",
        "        if count % frame_interval == 0:\n",
        "            frame_path = os.path.join(output_dir, f'frame_{saved_count:04d}.jpg')\n",
        "            cv2.imwrite(frame_path, frame)\n",
        "            saved_count += 1\n",
        "\n",
        "        count += 1\n",
        "\n",
        "    # 비디오 캡처 객체 해제\n",
        "    cap.release()\n",
        "\n",
        "def process_videos_in_directory(root_dir, output_base_dir, frame_interval=30):\n",
        "    \"\"\"\n",
        "    지정된 디렉토리를 재귀적으로 탐색하며 모든 MP4 비디오 파일을 처리합니다.\n",
        "\n",
        "    :param root_dir: 비디오 파일이 있는 루트 디렉토리\n",
        "    :param output_base_dir: 프레임을 저장할 기본 디렉토리\n",
        "    :param frame_interval: 몇 프레임마다 이미지를 저장할지 설정 (기본값: 30)\n",
        "    \"\"\"\n",
        "    for root, _, files in os.walk(root_dir):\n",
        "        for video_name in files:\n",
        "            video_path = os.path.join(root, video_name)\n",
        "\n",
        "            # 비디오 파일이 MP4 형식인지 확인\n",
        "            if video_name.endswith('.mp4'):\n",
        "                # 출력 경로 설정\n",
        "                relative_path = os.path.relpath(root, root_dir)  # 루트 디렉토리를 기준으로 상대 경로 계산\n",
        "                output_dir = os.path.join(output_base_dir, relative_path, os.path.splitext(video_name)[0])\n",
        "\n",
        "                # 비디오를 프레임으로 변환 (30 프레임 단위로)\n",
        "                video_to_frames(video_path, output_dir, frame_interval)\n",
        "\n",
        "def main():\n",
        "    # MP4 비디오 파일이 있는 루트 디렉토리와 출력 경로 설정\n",
        "    root_dir = '/content/drive/MyDrive/논문주제/이상행동 CCTV 영상/10.데이트폭력및추행(datefight)'\n",
        "    output_base_dir = '/content/drive/MyDrive/논문주제/이상행동 CCTV 영상/10.데이트폭력및추행(datefight)/path_to_output_frames2'\n",
        "\n",
        "    # 모든 MP4 비디오 파일 처리\n",
        "    process_videos_in_directory(root_dir, output_base_dir, frame_interval=30)\n",
        "\n",
        "if __name__ == \"__main__\":\n",
        "    main()"
      ]
    }
  ],
  "metadata": {
    "colab": {
      "machine_shape": "hm",
      "provenance": [],
      "include_colab_link": true
    },
    "kernelspec": {
      "display_name": "Python 3",
      "name": "python3"
    }
  },
  "nbformat": 4,
  "nbformat_minor": 0
}